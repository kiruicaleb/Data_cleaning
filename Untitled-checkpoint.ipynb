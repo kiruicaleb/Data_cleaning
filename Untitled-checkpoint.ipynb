{
 "cells": [
  {
   "cell_type": "code",
   "execution_count": 15,
   "id": "16509c95-b4dd-45c1-a41f-37181b7137b6",
   "metadata": {},
   "outputs": [],
   "source": [
    "import pandas as pd"
   ]
  },
  {
   "cell_type": "markdown",
   "id": "7da782d5-58e4-45ec-ab2f-46a29eddec0a",
   "metadata": {},
   "source": [
    "The pandas package is used to retrieve the desired document using the \"read_csv\" method."
   ]
  },
  {
   "cell_type": "code",
   "execution_count": 16,
   "id": "079c8b9e-7b1b-4070-8c29-4fa5c344a430",
   "metadata": {},
   "outputs": [],
   "source": [
    "data = pd.read_csv(\"world_cup_matches.csv\")"
   ]
  },
  {
   "cell_type": "code",
   "execution_count": 17,
   "id": "9d52a09b-f730-42c9-bb34-70ab6ee3d042",
   "metadata": {},
   "outputs": [
    {
     "data": {
      "text/html": [
       "<div>\n",
       "<style scoped>\n",
       "    .dataframe tbody tr th:only-of-type {\n",
       "        vertical-align: middle;\n",
       "    }\n",
       "\n",
       "    .dataframe tbody tr th {\n",
       "        vertical-align: top;\n",
       "    }\n",
       "\n",
       "    .dataframe thead th {\n",
       "        text-align: right;\n",
       "    }\n",
       "</style>\n",
       "<table border=\"1\" class=\"dataframe\">\n",
       "  <thead>\n",
       "    <tr style=\"text-align: right;\">\n",
       "      <th></th>\n",
       "      <th>ID</th>\n",
       "      <th>Year</th>\n",
       "      <th>Date</th>\n",
       "      <th>Stage</th>\n",
       "      <th>Home Team</th>\n",
       "      <th>Home Goals</th>\n",
       "      <th>Away Goals</th>\n",
       "      <th>Away Team</th>\n",
       "      <th>Win Conditions</th>\n",
       "      <th>Host Team</th>\n",
       "    </tr>\n",
       "  </thead>\n",
       "  <tbody>\n",
       "    <tr>\n",
       "      <th>0</th>\n",
       "      <td>1</td>\n",
       "      <td>1930</td>\n",
       "      <td>1930-07-13</td>\n",
       "      <td>Group stage</td>\n",
       "      <td>France</td>\n",
       "      <td>4</td>\n",
       "      <td>1</td>\n",
       "      <td>Mexico</td>\n",
       "      <td>NaN</td>\n",
       "      <td>False</td>\n",
       "    </tr>\n",
       "    <tr>\n",
       "      <th>1</th>\n",
       "      <td>2</td>\n",
       "      <td>1930</td>\n",
       "      <td>1930-07-13</td>\n",
       "      <td>Group stage</td>\n",
       "      <td>United States</td>\n",
       "      <td>3</td>\n",
       "      <td>0</td>\n",
       "      <td>Belgium</td>\n",
       "      <td>NaN</td>\n",
       "      <td>False</td>\n",
       "    </tr>\n",
       "    <tr>\n",
       "      <th>2</th>\n",
       "      <td>3</td>\n",
       "      <td>1930</td>\n",
       "      <td>1930-07-14</td>\n",
       "      <td>Group stage</td>\n",
       "      <td>Yugoslavia</td>\n",
       "      <td>2</td>\n",
       "      <td>1</td>\n",
       "      <td>Brazil</td>\n",
       "      <td>NaN</td>\n",
       "      <td>False</td>\n",
       "    </tr>\n",
       "    <tr>\n",
       "      <th>3</th>\n",
       "      <td>4</td>\n",
       "      <td>1930</td>\n",
       "      <td>1930-07-14</td>\n",
       "      <td>Group stage</td>\n",
       "      <td>Romania</td>\n",
       "      <td>3</td>\n",
       "      <td>1</td>\n",
       "      <td>Peru</td>\n",
       "      <td>NaN</td>\n",
       "      <td>False</td>\n",
       "    </tr>\n",
       "    <tr>\n",
       "      <th>4</th>\n",
       "      <td>5</td>\n",
       "      <td>1930</td>\n",
       "      <td>1930-07-15</td>\n",
       "      <td>Group stage</td>\n",
       "      <td>Argentina</td>\n",
       "      <td>1</td>\n",
       "      <td>0</td>\n",
       "      <td>France</td>\n",
       "      <td>NaN</td>\n",
       "      <td>False</td>\n",
       "    </tr>\n",
       "  </tbody>\n",
       "</table>\n",
       "</div>"
      ],
      "text/plain": [
       "   ID  Year        Date        Stage      Home Team  Home Goals  Away Goals  \\\n",
       "0   1  1930  1930-07-13  Group stage         France           4           1   \n",
       "1   2  1930  1930-07-13  Group stage  United States           3           0   \n",
       "2   3  1930  1930-07-14  Group stage     Yugoslavia           2           1   \n",
       "3   4  1930  1930-07-14  Group stage        Romania           3           1   \n",
       "4   5  1930  1930-07-15  Group stage      Argentina           1           0   \n",
       "\n",
       "  Away Team Win Conditions  Host Team  \n",
       "0    Mexico            NaN      False  \n",
       "1   Belgium            NaN      False  \n",
       "2    Brazil            NaN      False  \n",
       "3      Peru            NaN      False  \n",
       "4    France            NaN      False  "
      ]
     },
     "execution_count": 17,
     "metadata": {},
     "output_type": "execute_result"
    }
   ],
   "source": [
    "data.head()"
   ]
  },
  {
   "cell_type": "code",
   "execution_count": 18,
   "id": "79e3274e-b113-4e78-9d7f-014f8c445dc1",
   "metadata": {},
   "outputs": [
    {
     "data": {
      "text/html": [
       "<div>\n",
       "<style scoped>\n",
       "    .dataframe tbody tr th:only-of-type {\n",
       "        vertical-align: middle;\n",
       "    }\n",
       "\n",
       "    .dataframe tbody tr th {\n",
       "        vertical-align: top;\n",
       "    }\n",
       "\n",
       "    .dataframe thead th {\n",
       "        text-align: right;\n",
       "    }\n",
       "</style>\n",
       "<table border=\"1\" class=\"dataframe\">\n",
       "  <thead>\n",
       "    <tr style=\"text-align: right;\">\n",
       "      <th></th>\n",
       "      <th>ID</th>\n",
       "      <th>Year</th>\n",
       "      <th>Date</th>\n",
       "      <th>Stage</th>\n",
       "      <th>Home Team</th>\n",
       "      <th>Home Goals</th>\n",
       "      <th>Away Goals</th>\n",
       "      <th>Away Team</th>\n",
       "      <th>Win Conditions</th>\n",
       "      <th>Host Team</th>\n",
       "    </tr>\n",
       "  </thead>\n",
       "  <tbody>\n",
       "    <tr>\n",
       "      <th>895</th>\n",
       "      <td>896</td>\n",
       "      <td>2018</td>\n",
       "      <td>2018-07-07</td>\n",
       "      <td>Quarter-finals</td>\n",
       "      <td>Russia</td>\n",
       "      <td>2</td>\n",
       "      <td>2</td>\n",
       "      <td>Croatia</td>\n",
       "      <td>Croatia win on penalties (3 - 4)</td>\n",
       "      <td>True</td>\n",
       "    </tr>\n",
       "    <tr>\n",
       "      <th>896</th>\n",
       "      <td>897</td>\n",
       "      <td>2018</td>\n",
       "      <td>2018-07-10</td>\n",
       "      <td>Semi-finals</td>\n",
       "      <td>France</td>\n",
       "      <td>1</td>\n",
       "      <td>0</td>\n",
       "      <td>Belgium</td>\n",
       "      <td>NaN</td>\n",
       "      <td>False</td>\n",
       "    </tr>\n",
       "    <tr>\n",
       "      <th>897</th>\n",
       "      <td>898</td>\n",
       "      <td>2018</td>\n",
       "      <td>2018-07-11</td>\n",
       "      <td>Semi-finals</td>\n",
       "      <td>Croatia</td>\n",
       "      <td>2</td>\n",
       "      <td>1</td>\n",
       "      <td>England</td>\n",
       "      <td>Extra time</td>\n",
       "      <td>False</td>\n",
       "    </tr>\n",
       "    <tr>\n",
       "      <th>898</th>\n",
       "      <td>899</td>\n",
       "      <td>2018</td>\n",
       "      <td>2018-07-14</td>\n",
       "      <td>Third place</td>\n",
       "      <td>Belgium</td>\n",
       "      <td>2</td>\n",
       "      <td>0</td>\n",
       "      <td>England</td>\n",
       "      <td>NaN</td>\n",
       "      <td>False</td>\n",
       "    </tr>\n",
       "    <tr>\n",
       "      <th>899</th>\n",
       "      <td>900</td>\n",
       "      <td>2018</td>\n",
       "      <td>2018-07-15</td>\n",
       "      <td>Final</td>\n",
       "      <td>France</td>\n",
       "      <td>4</td>\n",
       "      <td>2</td>\n",
       "      <td>Croatia</td>\n",
       "      <td>NaN</td>\n",
       "      <td>False</td>\n",
       "    </tr>\n",
       "  </tbody>\n",
       "</table>\n",
       "</div>"
      ],
      "text/plain": [
       "      ID  Year        Date           Stage Home Team  Home Goals  Away Goals  \\\n",
       "895  896  2018  2018-07-07  Quarter-finals    Russia           2           2   \n",
       "896  897  2018  2018-07-10     Semi-finals    France           1           0   \n",
       "897  898  2018  2018-07-11     Semi-finals   Croatia           2           1   \n",
       "898  899  2018  2018-07-14     Third place   Belgium           2           0   \n",
       "899  900  2018  2018-07-15           Final    France           4           2   \n",
       "\n",
       "    Away Team                    Win Conditions  Host Team  \n",
       "895   Croatia  Croatia win on penalties (3 - 4)       True  \n",
       "896   Belgium                               NaN      False  \n",
       "897   England                        Extra time      False  \n",
       "898   England                               NaN      False  \n",
       "899   Croatia                               NaN      False  "
      ]
     },
     "execution_count": 18,
     "metadata": {},
     "output_type": "execute_result"
    }
   ],
   "source": [
    "data.tail()"
   ]
  },
  {
   "cell_type": "code",
   "execution_count": 19,
   "id": "355961b2-8ffa-4172-b0f2-43eeb030d129",
   "metadata": {},
   "outputs": [
    {
     "name": "stdout",
     "output_type": "stream",
     "text": [
      "<class 'pandas.core.frame.DataFrame'>\n",
      "RangeIndex: 900 entries, 0 to 899\n",
      "Data columns (total 10 columns):\n",
      " #   Column          Non-Null Count  Dtype \n",
      "---  ------          --------------  ----- \n",
      " 0   ID              900 non-null    int64 \n",
      " 1   Year            900 non-null    int64 \n",
      " 2   Date            900 non-null    object\n",
      " 3   Stage           900 non-null    object\n",
      " 4   Home Team       900 non-null    object\n",
      " 5   Home Goals      900 non-null    int64 \n",
      " 6   Away Goals      900 non-null    int64 \n",
      " 7   Away Team       900 non-null    object\n",
      " 8   Win Conditions  62 non-null     object\n",
      " 9   Host Team       900 non-null    bool  \n",
      "dtypes: bool(1), int64(4), object(5)\n",
      "memory usage: 64.3+ KB\n"
     ]
    }
   ],
   "source": [
    "data.info()"
   ]
  },
  {
   "cell_type": "code",
   "execution_count": 20,
   "id": "14720ca2-a279-4674-87e5-4708aefd91af",
   "metadata": {},
   "outputs": [
    {
     "data": {
      "text/plain": [
       "ID                  0\n",
       "Year                0\n",
       "Date                0\n",
       "Stage               0\n",
       "Home Team           0\n",
       "Home Goals          0\n",
       "Away Goals          0\n",
       "Away Team           0\n",
       "Win Conditions    838\n",
       "Host Team           0\n",
       "dtype: int64"
      ]
     },
     "execution_count": 20,
     "metadata": {},
     "output_type": "execute_result"
    }
   ],
   "source": [
    "data.isna().sum()"
   ]
  },
  {
   "cell_type": "markdown",
   "id": "12e156ab-b15f-4a04-9077-299b728a1842",
   "metadata": {},
   "source": [
    "The column \"Win Conditions\" has 838 missing values.The column has no direct relationship with the other columns hence it will be impossible to impute the missing values by subgroup to reduce the missing values.Therefore, the missing values are directly dropped using \"dropna\" method."
   ]
  },
  {
   "cell_type": "code",
   "execution_count": 21,
   "id": "4ccaf2c3-8faf-48c3-82cd-b53d3b0f400d",
   "metadata": {},
   "outputs": [],
   "source": [
    "cups = data.dropna()"
   ]
  },
  {
   "cell_type": "code",
   "execution_count": 22,
   "id": "c93685a0-8888-492a-bfee-3cf664e95e04",
   "metadata": {},
   "outputs": [
    {
     "data": {
      "text/plain": [
       "ID                0\n",
       "Year              0\n",
       "Date              0\n",
       "Stage             0\n",
       "Home Team         0\n",
       "Home Goals        0\n",
       "Away Goals        0\n",
       "Away Team         0\n",
       "Win Conditions    0\n",
       "Host Team         0\n",
       "dtype: int64"
      ]
     },
     "execution_count": 22,
     "metadata": {},
     "output_type": "execute_result"
    }
   ],
   "source": [
    "cups.isna().sum()"
   ]
  }
 ],
 "metadata": {
  "kernelspec": {
   "display_name": "Python 3 (ipykernel)",
   "language": "python",
   "name": "python3"
  },
  "language_info": {
   "codemirror_mode": {
    "name": "ipython",
    "version": 3
   },
   "file_extension": ".py",
   "mimetype": "text/x-python",
   "name": "python",
   "nbconvert_exporter": "python",
   "pygments_lexer": "ipython3",
   "version": "3.11.7"
  }
 },
 "nbformat": 4,
 "nbformat_minor": 5
}
